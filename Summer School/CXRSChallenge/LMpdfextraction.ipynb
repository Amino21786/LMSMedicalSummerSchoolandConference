{
  "nbformat": 4,
  "nbformat_minor": 0,
  "metadata": {
    "colab": {
      "provenance": []
    },
    "kernelspec": {
      "name": "python3",
      "display_name": "Python 3"
    },
    "language_info": {
      "name": "python"
    }
  },
  "cells": [
    {
      "cell_type": "code",
      "execution_count": null,
      "metadata": {
        "id": "rrdCFQIIGZ0g"
      },
      "outputs": [],
      "source": [
        "#Challenge (2D chest x rays - One from DICOM, one from PDF, different orientations"
      ]
    },
    {
      "cell_type": "code",
      "source": [
        "pip install fitz"
      ],
      "metadata": {
        "id": "OyIdfC4FJNv9"
      },
      "execution_count": null,
      "outputs": []
    },
    {
      "cell_type": "code",
      "source": [
        "pip install pymupdf"
      ],
      "metadata": {
        "id": "cw5CDy4TWONu"
      },
      "execution_count": null,
      "outputs": []
    },
    {
      "cell_type": "code",
      "source": [
        "import fitz  # PyMuPDF\n",
        "import os\n",
        "import matplotlib.pyplot as plt\n",
        "from PIL import Image\n"
      ],
      "metadata": {
        "id": "F78b-paZWZXv"
      },
      "execution_count": null,
      "outputs": []
    },
    {
      "cell_type": "code",
      "source": [
        "import os\n",
        "\n",
        "dicom_dir = \"/content/drive/MyDrive/summer school/cxrs/dicom-48678\"\n",
        "\n",
        "# Check files inside the folder\n",
        "for file in os.listdir(dicom_dir):\n",
        "    print(file)\n"
      ],
      "metadata": {
        "id": "xI9ITufCeM8N",
        "outputId": "48dc2151-39d8-4d4c-9a68-807c1b933f32",
        "colab": {
          "base_uri": "https://localhost:8080/",
          "height": 211
        }
      },
      "execution_count": null,
      "outputs": [
        {
          "output_type": "error",
          "ename": "FileNotFoundError",
          "evalue": "[Errno 2] No such file or directory: '/content/drive/MyDrive/summer school/cxrs/dicom-48678'",
          "traceback": [
            "\u001b[0;31m---------------------------------------------------------------------------\u001b[0m",
            "\u001b[0;31mFileNotFoundError\u001b[0m                         Traceback (most recent call last)",
            "\u001b[0;32m/tmp/ipython-input-1-1201869406.py\u001b[0m in \u001b[0;36m<cell line: 0>\u001b[0;34m()\u001b[0m\n\u001b[1;32m      4\u001b[0m \u001b[0;34m\u001b[0m\u001b[0m\n\u001b[1;32m      5\u001b[0m \u001b[0;31m# Check files inside the folder\u001b[0m\u001b[0;34m\u001b[0m\u001b[0;34m\u001b[0m\u001b[0m\n\u001b[0;32m----> 6\u001b[0;31m \u001b[0;32mfor\u001b[0m \u001b[0mfile\u001b[0m \u001b[0;32min\u001b[0m \u001b[0mos\u001b[0m\u001b[0;34m.\u001b[0m\u001b[0mlistdir\u001b[0m\u001b[0;34m(\u001b[0m\u001b[0mdicom_dir\u001b[0m\u001b[0;34m)\u001b[0m\u001b[0;34m:\u001b[0m\u001b[0;34m\u001b[0m\u001b[0;34m\u001b[0m\u001b[0m\n\u001b[0m\u001b[1;32m      7\u001b[0m     \u001b[0mprint\u001b[0m\u001b[0;34m(\u001b[0m\u001b[0mfile\u001b[0m\u001b[0;34m)\u001b[0m\u001b[0;34m\u001b[0m\u001b[0;34m\u001b[0m\u001b[0m\n",
            "\u001b[0;31mFileNotFoundError\u001b[0m: [Errno 2] No such file or directory: '/content/drive/MyDrive/summer school/cxrs/dicom-48678'"
          ]
        }
      ]
    },
    {
      "cell_type": "code",
      "source": [
        "# pydicom reading of the images\n",
        "#!pip install pydicom\n",
        "from pydicom import dcmread, examples\n",
        "filepath = \"cxrs/dicom-48678\"\n",
        "with open(filecpath, 'rb') as infile:\n",
        "    ds = dcmread(infile)\n",
        "\n"
      ],
      "metadata": {
        "id": "Qbi8C0ILJK3-",
        "colab": {
          "base_uri": "https://localhost:8080/",
          "height": 211
        },
        "outputId": "a36ea7c4-1699-4c69-9070-b9b9c2724ccd"
      },
      "execution_count": null,
      "outputs": [
        {
          "output_type": "error",
          "ename": "FileNotFoundError",
          "evalue": "[Errno 2] No such file or directory: 'cxrs/dicom-48678'",
          "traceback": [
            "\u001b[0;31m---------------------------------------------------------------------------\u001b[0m",
            "\u001b[0;31mFileNotFoundError\u001b[0m                         Traceback (most recent call last)",
            "\u001b[0;32m/tmp/ipython-input-12-2386955214.py\u001b[0m in \u001b[0;36m<cell line: 0>\u001b[0;34m()\u001b[0m\n\u001b[1;32m      3\u001b[0m \u001b[0;32mfrom\u001b[0m \u001b[0mpydicom\u001b[0m \u001b[0;32mimport\u001b[0m \u001b[0mdcmread\u001b[0m\u001b[0;34m,\u001b[0m \u001b[0mexamples\u001b[0m\u001b[0;34m\u001b[0m\u001b[0;34m\u001b[0m\u001b[0m\n\u001b[1;32m      4\u001b[0m \u001b[0mfilepath\u001b[0m \u001b[0;34m=\u001b[0m \u001b[0;34m\"cxrs/dicom-48678\"\u001b[0m\u001b[0;34m\u001b[0m\u001b[0;34m\u001b[0m\u001b[0m\n\u001b[0;32m----> 5\u001b[0;31m \u001b[0;32mwith\u001b[0m \u001b[0mopen\u001b[0m\u001b[0;34m(\u001b[0m\u001b[0mfilepath\u001b[0m\u001b[0;34m,\u001b[0m \u001b[0;34m'rb'\u001b[0m\u001b[0;34m)\u001b[0m \u001b[0;32mas\u001b[0m \u001b[0minfile\u001b[0m\u001b[0;34m:\u001b[0m\u001b[0;34m\u001b[0m\u001b[0;34m\u001b[0m\u001b[0m\n\u001b[0m\u001b[1;32m      6\u001b[0m     \u001b[0mds\u001b[0m \u001b[0;34m=\u001b[0m \u001b[0mdcmread\u001b[0m\u001b[0;34m(\u001b[0m\u001b[0minfile\u001b[0m\u001b[0;34m)\u001b[0m\u001b[0;34m\u001b[0m\u001b[0;34m\u001b[0m\u001b[0m\n\u001b[1;32m      7\u001b[0m \u001b[0;34m\u001b[0m\u001b[0m\n",
            "\u001b[0;31mFileNotFoundError\u001b[0m: [Errno 2] No such file or directory: 'cxrs/dicom-48678'"
          ]
        }
      ]
    },
    {
      "cell_type": "code",
      "source": [
        "!pip install python-gdcm\n",
        "!pip install pydicom\n",
        "!pip install pylibjpeg"
      ],
      "metadata": {
        "colab": {
          "base_uri": "https://localhost:8080/"
        },
        "id": "CIMnhkySdJxz",
        "outputId": "cddcb16d-142b-49ce-bdd2-3f0a46d25d7d"
      },
      "execution_count": null,
      "outputs": [
        {
          "output_type": "stream",
          "name": "stdout",
          "text": [
            "Collecting python-gdcm\n",
            "  Downloading python_gdcm-3.0.25-cp311-cp311-manylinux_2_17_x86_64.manylinux2014_x86_64.whl.metadata (3.8 kB)\n",
            "Downloading python_gdcm-3.0.25-cp311-cp311-manylinux_2_17_x86_64.manylinux2014_x86_64.whl (12.4 MB)\n",
            "\u001b[2K   \u001b[90m━━━━━━━━━━━━━━━━━━━━━━━━━━━━━━━━━━━━━━━━\u001b[0m \u001b[32m12.4/12.4 MB\u001b[0m \u001b[31m107.4 MB/s\u001b[0m eta \u001b[36m0:00:00\u001b[0m\n",
            "\u001b[?25hInstalling collected packages: python-gdcm\n",
            "Successfully installed python-gdcm-3.0.25\n",
            "Requirement already satisfied: pydicom in /usr/local/lib/python3.11/dist-packages (3.0.1)\n",
            "Collecting pylibjpeg\n",
            "  Downloading pylibjpeg-2.0.1-py3-none-any.whl.metadata (7.8 kB)\n",
            "Requirement already satisfied: numpy in /usr/local/lib/python3.11/dist-packages (from pylibjpeg) (2.0.2)\n",
            "Downloading pylibjpeg-2.0.1-py3-none-any.whl (24 kB)\n",
            "Installing collected packages: pylibjpeg\n",
            "Successfully installed pylibjpeg-2.0.1\n"
          ]
        }
      ]
    },
    {
      "cell_type": "code",
      "source": [],
      "metadata": {
        "id": "OS6ZPENQdJuW"
      },
      "execution_count": null,
      "outputs": []
    },
    {
      "cell_type": "code",
      "source": [
        "#File location and setup\n",
        "import pydicom#, python-gdcm, pylibjpeg\n",
        "from pydicom import dcmread, examples\n",
        "image01 = \"cxrs/dicom-48678/053AF8E7_clean.dcm\"\n",
        "image02 = \"cxrs/dicom-48678/053AF8E8_clean.dcm\"\n",
        "#image11 = \"cxrs/dicom-49852/053AF8E9_clean.dcm\"\n",
        "with open(image01, 'rb') as infile:\n",
        "    ds = dcmread(infile)"
      ],
      "metadata": {
        "colab": {
          "base_uri": "https://localhost:8080/",
          "height": 193
        },
        "id": "OrsrXPFMNKx2",
        "outputId": "2783612a-93e4-4dc3-8940-4b2ba0114cce"
      },
      "execution_count": null,
      "outputs": [
        {
          "output_type": "error",
          "ename": "FileNotFoundError",
          "evalue": "[Errno 2] No such file or directory: 'cxrs/dicom-48678/053AF8E7_clean.dcm'",
          "traceback": [
            "\u001b[0;31m---------------------------------------------------------------------------\u001b[0m",
            "\u001b[0;31mFileNotFoundError\u001b[0m                         Traceback (most recent call last)",
            "\u001b[0;32m/tmp/ipython-input-21-3198965451.py\u001b[0m in \u001b[0;36m<cell line: 0>\u001b[0;34m()\u001b[0m\n\u001b[1;32m      5\u001b[0m \u001b[0mimage02\u001b[0m \u001b[0;34m=\u001b[0m \u001b[0;34m\"cxrs/dicom-48678/053AF8E8_clean.dcm\"\u001b[0m\u001b[0;34m\u001b[0m\u001b[0;34m\u001b[0m\u001b[0m\n\u001b[1;32m      6\u001b[0m \u001b[0;31m#image11 = \"cxrs/dicom-49852/053AF8E9_clean.dcm\"\u001b[0m\u001b[0;34m\u001b[0m\u001b[0;34m\u001b[0m\u001b[0m\n\u001b[0;32m----> 7\u001b[0;31m \u001b[0;32mwith\u001b[0m \u001b[0mopen\u001b[0m\u001b[0;34m(\u001b[0m\u001b[0mimage01\u001b[0m\u001b[0;34m,\u001b[0m \u001b[0;34m'rb'\u001b[0m\u001b[0;34m)\u001b[0m \u001b[0;32mas\u001b[0m \u001b[0minfile\u001b[0m\u001b[0;34m:\u001b[0m\u001b[0;34m\u001b[0m\u001b[0;34m\u001b[0m\u001b[0m\n\u001b[0m\u001b[1;32m      8\u001b[0m     \u001b[0mds\u001b[0m \u001b[0;34m=\u001b[0m \u001b[0mdcmread\u001b[0m\u001b[0;34m(\u001b[0m\u001b[0minfile\u001b[0m\u001b[0;34m)\u001b[0m\u001b[0;34m\u001b[0m\u001b[0;34m\u001b[0m\u001b[0m\n",
            "\u001b[0;31mFileNotFoundError\u001b[0m: [Errno 2] No such file or directory: 'cxrs/dicom-48678/053AF8E7_clean.dcm'"
          ]
        }
      ]
    },
    {
      "cell_type": "code",
      "source": [
        "dataset = pydicom.dcmread(image02)\n",
        "\n",
        "\n",
        "\n",
        "\n",
        "\n",
        "if 'PixelData' in dataset:\n",
        "    rows = int(dataset.Rows)\n",
        "    cols = int(dataset.Columns)\n",
        "    print(\"Image size.......: {rows:d} x {cols:d}, {size:d} bytes\".format(\n",
        "        rows=rows, cols=cols, size=len(dataset.PixelData)))\n",
        "    if 'PixelSpacing' in dataset:\n",
        "        print(\"Pixel spacing....:\", dataset.PixelSpacing)\n",
        "\n",
        "# plot the image using matplotlib\n",
        "a = dataset.pixel_array  # this is the image data\n",
        "#plt.imshow(dataset.pixel_array, cmap=plt.cm.bone)\n",
        "type(a)"
      ],
      "metadata": {
        "id": "BES_OnyUKpk3"
      },
      "execution_count": null,
      "outputs": []
    },
    {
      "cell_type": "markdown",
      "source": [
        "### Extract PDF images"
      ],
      "metadata": {
        "id": "Mz0s87ncANXn"
      }
    },
    {
      "cell_type": "code",
      "source": [
        "\n",
        "doc = fitz.open(\"cxrs/VETCT-48678_original_report_2_Redacted.pdf\")\n",
        "# \"cxrs/VETCT-49852_original_report_2_Redacted.pdf\"\n",
        "output_dir = \"images\"\n",
        "os.makedirs(output_dir, exist_ok=True)\n",
        "\n",
        "for page_index in range(len(doc)):\n",
        "    for img_index, img in enumerate(doc.get_page_images(page_index)):\n",
        "        xref = img[0]\n",
        "        base_image = doc.extract_image(xref)\n",
        "        image_bytes = base_image[\"image\"]\n",
        "        image_ext = base_image[\"ext\"]\n",
        "        image_filename = f\"page{page_index+1}_img{img_index+1}.{image_ext}\"\n",
        "\n",
        "        with open(os.path.join(output_dir, image_filename), \"wb\") as f:\n",
        "            f.write(image_bytes)"
      ],
      "metadata": {
        "id": "AJ56ybWPWQrg"
      },
      "execution_count": null,
      "outputs": []
    },
    {
      "cell_type": "code",
      "source": [
        "# # Load all images extract from the pdf, find the files for the screenshorts we care\n",
        "# # Directory where PyMuPDF saved your extracted images\n",
        "# image_dir = \"images\"\n",
        "# image_files = sorted([\n",
        "#     f for f in os.listdir(image_dir)\n",
        "#     if f.lower().endswith(('.png', '.jpg', '.jpeg'))\n",
        "# ])\n",
        "\n",
        "# # Plot settings: 3 images per row\n",
        "# n_images = len(image_files)\n",
        "# n_cols = 3\n",
        "# n_rows = (n_images + n_cols - 1) // n_cols\n",
        "\n",
        "# plt.figure(figsize=(15, 5 * n_rows))\n",
        "\n",
        "# for i, image_file in enumerate(image_files):\n",
        "#     img_path = os.path.join(image_dir, image_file)\n",
        "#     try:\n",
        "#         img = Image.open(img_path)\n",
        "#         plt.subplot(n_rows, n_cols, i + 1)\n",
        "#         plt.imshow(img)\n",
        "#         plt.title(image_file)\n",
        "#         plt.axis(\"off\")\n",
        "#     except Exception as e:\n",
        "#         print(f\"Could not open {img_path}: {e}\")\n",
        "\n",
        "# plt.tight_layout()\n",
        "# plt.show()"
      ],
      "metadata": {
        "id": "fpEuW3GDWfHL"
      },
      "execution_count": null,
      "outputs": []
    },
    {
      "cell_type": "code",
      "source": [
        "image_files_targ1 = ['page3_img1.jpeg', 'page3_img2.png'] # two screenshots from 48678\n",
        "for i, image_file in enumerate(image_files_targ1):\n",
        "    img_path = os.path.join(image_dir, image_file)\n",
        "    try:\n",
        "        img = Image.open(img_path)\n",
        "        plt.subplot(n_rows, n_cols, i + 1)\n",
        "        plt.imshow(img)\n",
        "        plt.title(image_file)\n",
        "        plt.axis(\"off\")\n",
        "    except Exception as e:\n",
        "        print(f\"Could not open {img_path}: {e}\")\n",
        "\n",
        "plt.tight_layout()\n",
        "plt.show()"
      ],
      "metadata": {
        "id": "t8XXo0VSWsqt"
      },
      "execution_count": null,
      "outputs": []
    },
    {
      "cell_type": "code",
      "source": [
        "image_files_targ2 = ['page2_img2.jpeg', 'page2_img1.png'] # two images from 49852\n",
        "    img_path = os.path.join(image_dir, image_file)\n",
        "    try:\n",
        "        img = Image.open(img_path)\n",
        "        plt.subplot(n_rows, n_cols, i + 1)\n",
        "        plt.imshow(img)\n",
        "        plt.title(image_file)\n",
        "        plt.axis(\"off\")\n",
        "    except Exception as e:\n",
        "        print(f\"Could not open {img_path}: {e}\")\n",
        "\n",
        "plt.tight_layout()\n",
        "plt.show()"
      ],
      "metadata": {
        "id": "Tz24m17_aSLr"
      },
      "execution_count": null,
      "outputs": []
    }
  ]
}
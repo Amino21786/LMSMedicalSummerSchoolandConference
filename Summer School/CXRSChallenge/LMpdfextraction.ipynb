{
  "cells": [
    {
      "cell_type": "code",
      "execution_count": null,
      "metadata": {
        "id": "rrdCFQIIGZ0g"
      },
      "outputs": [],
      "source": [
        "#Challenge (2D chest x rays - One from DICOM, one from PDF, different orientations"
      ]
    },
    {
      "cell_type": "code",
      "execution_count": 1,
      "metadata": {
        "id": "F78b-paZWZXv"
      },
      "outputs": [],
      "source": [
        "import fitz  # PyMuPDF\n",
        "import os\n",
        "import matplotlib.pyplot as plt\n",
        "from PIL import Image\n"
      ]
    },
    {
      "cell_type": "markdown",
      "metadata": {
        "id": "Mz0s87ncANXn"
      },
      "source": [
        "### Extract PDF images"
      ]
    },
    {
      "cell_type": "code",
      "execution_count": 8,
      "metadata": {
        "id": "AJ56ybWPWQrg"
      },
      "outputs": [],
      "source": [
        "pdf1path = \"cxrs/VETCT-48678_original_report_2_Redacted.pdf\"\n",
        "pdf2path = \"cxrs/VETCT-49852_original_report_2_Redacted.pdf\"\n",
        "doc = fitz.open(pdf1path)\n",
        "output_dir = \"imagespdf\"\n",
        "os.makedirs(output_dir, exist_ok=True)\n",
        "\n",
        "for page_index in range(len(doc)):\n",
        "    for img_index, img in enumerate(doc.get_page_images(page_index)):\n",
        "        xref = img[0]\n",
        "        base_image = doc.extract_image(xref)\n",
        "        image_bytes = base_image[\"image\"]\n",
        "        image_ext = base_image[\"ext\"]\n",
        "        image_filename = f\"pdf1page{page_index+1}_img{img_index+1}.{image_ext}\"\n",
        "\n",
        "        with open(os.path.join(output_dir, image_filename), \"wb\") as f:\n",
        "            f.write(image_bytes)"
      ]
    },
    {
      "cell_type": "code",
      "execution_count": null,
      "metadata": {
        "id": "fpEuW3GDWfHL"
      },
      "outputs": [],
      "source": [
        "# # Load all images extract from the pdf, find the files for the screenshorts we care\n",
        "# # Directory where PyMuPDF saved your extracted images\n",
        "# image_dir = \"images\"\n",
        "# image_files = sorted([\n",
        "#     f for f in os.listdir(image_dir)\n",
        "#     if f.lower().endswith(('.png', '.jpg', '.jpeg'))\n",
        "# ])\n",
        "\n",
        "# # Plot settings: 3 images per row\n",
        "# n_images = len(image_files)\n",
        "# n_cols = 3\n",
        "# n_rows = (n_images + n_cols - 1) // n_cols\n",
        "\n",
        "# plt.figure(figsize=(15, 5 * n_rows))\n",
        "\n",
        "# for i, image_file in enumerate(image_files):\n",
        "#     img_path = os.path.join(image_dir, image_file)\n",
        "#     try:\n",
        "#         img = Image.open(img_path)\n",
        "#         plt.subplot(n_rows, n_cols, i + 1)\n",
        "#         plt.imshow(img)\n",
        "#         plt.title(image_file)\n",
        "#         plt.axis(\"off\")\n",
        "#     except Exception as e:\n",
        "#         print(f\"Could not open {img_path}: {e}\")\n",
        "\n",
        "# plt.tight_layout()\n",
        "# plt.show()"
      ]
    },
    {
      "cell_type": "code",
      "execution_count": 4,
      "metadata": {
        "id": "t8XXo0VSWsqt"
      },
      "outputs": [
        {
          "ename": "NameError",
          "evalue": "name 'image_dir' is not defined",
          "output_type": "error",
          "traceback": [
            "\u001b[31m---------------------------------------------------------------------------\u001b[39m",
            "\u001b[31mNameError\u001b[39m                                 Traceback (most recent call last)",
            "\u001b[36mCell\u001b[39m\u001b[36m \u001b[39m\u001b[32mIn[4]\u001b[39m\u001b[32m, line 3\u001b[39m\n\u001b[32m      1\u001b[39m image_files_targ1 = [\u001b[33m'\u001b[39m\u001b[33mpage3_img1.jpeg\u001b[39m\u001b[33m'\u001b[39m, \u001b[33m'\u001b[39m\u001b[33mpage3_img2.png\u001b[39m\u001b[33m'\u001b[39m] \u001b[38;5;66;03m# two screenshots from 48678\u001b[39;00m\n\u001b[32m      2\u001b[39m \u001b[38;5;28;01mfor\u001b[39;00m i, image_file \u001b[38;5;129;01min\u001b[39;00m \u001b[38;5;28menumerate\u001b[39m(image_files_targ1):\n\u001b[32m----> \u001b[39m\u001b[32m3\u001b[39m     img_path = os.path.join(\u001b[43mimage_dir\u001b[49m, image_file)\n\u001b[32m      4\u001b[39m     \u001b[38;5;28;01mtry\u001b[39;00m:\n\u001b[32m      5\u001b[39m         img = Image.open(img_path)\n",
            "\u001b[31mNameError\u001b[39m: name 'image_dir' is not defined"
          ]
        }
      ],
      "source": [
        "image_files_targ1 = ['page3_img1.jpeg', 'page3_img2.png'] # two screenshots from 48678\n",
        "for i, image_file in enumerate(image_files_targ1):\n",
        "    img_path = os.path.join(image_dir, image_file)\n",
        "    try:\n",
        "        img = Image.open(img_path)\n",
        "        plt.subplot(n_rows, n_cols, i + 1)\n",
        "        plt.imshow(img)\n",
        "        plt.title(image_file)\n",
        "        plt.axis(\"off\")\n",
        "    except Exception as e:\n",
        "        print(f\"Could not open {img_path}: {e}\")\n",
        "\n",
        "plt.tight_layout()\n",
        "plt.show()"
      ]
    },
    {
      "cell_type": "code",
      "execution_count": null,
      "metadata": {
        "id": "Tz24m17_aSLr"
      },
      "outputs": [],
      "source": [
        "image_files_targ2 = ['page2_img2.jpeg', 'page2_img1.png'] # two images from 49852\n",
        "    img_path = os.path.join(image_dir, image_file)\n",
        "    try:\n",
        "        img = Image.open(img_path)\n",
        "        plt.subplot(n_rows, n_cols, i + 1)\n",
        "        plt.imshow(img)\n",
        "        plt.title(image_file)\n",
        "        plt.axis(\"off\")\n",
        "    except Exception as e:\n",
        "        print(f\"Could not open {img_path}: {e}\")\n",
        "\n",
        "plt.tight_layout()\n",
        "plt.show()"
      ]
    }
  ],
  "metadata": {
    "colab": {
      "provenance": []
    },
    "kernelspec": {
      "display_name": ".venv",
      "language": "python",
      "name": "python3"
    },
    "language_info": {
      "codemirror_mode": {
        "name": "ipython",
        "version": 3
      },
      "file_extension": ".py",
      "mimetype": "text/x-python",
      "name": "python",
      "nbconvert_exporter": "python",
      "pygments_lexer": "ipython3",
      "version": "3.12.2"
    }
  },
  "nbformat": 4,
  "nbformat_minor": 0
}

{
 "cells": [
  {
   "cell_type": "markdown",
   "id": "5ef01ac8",
   "metadata": {},
   "source": [
    "# Image registration of the pdf scans vs DICOM scan images"
   ]
  },
  {
   "cell_type": "code",
   "execution_count": null,
   "id": "db46d960",
   "metadata": {},
   "outputs": [],
   "source": [
    "import numpy as np\n",
    "import matplotlib.pyplot as plt\n",
    "import os\n",
    "from PIL import Image\n",
    "import opencv2 as cv2\n",
    "\n",
    "# Define the directories\n",
    "pdf_dir = 'imagespdf'\n",
    "dicom_dir = 'imagesdicom'\n",
    "\n",
    "# Helper function to load all jpg images from a directory as numpy arrays\n",
    "def load_images_from_folder(folder):\n",
    "    images = []\n",
    "    filenames = []\n",
    "    for filename in os.listdir(folder):\n",
    "        if filename.lower().endswith('.jpg'):\n",
    "            img_path = os.path.join(folder, filename)\n",
    "            img = Image.open(img_path).convert('L')  # convert to grayscale\n",
    "            images.append(np.array(img))\n",
    "            filenames.append(filename)\n",
    "    return images, filenames\n",
    "\n",
    "pdf_images, pdf_filenames = load_images_from_folder(pdf_dir)\n",
    "dicom_images, dicom_filenames = load_images_from_folder(dicom_dir)"
   ]
  },
  {
   "cell_type": "code",
   "execution_count": null,
   "id": "b22937bb",
   "metadata": {},
   "outputs": [
    {
     "name": "stdout",
     "output_type": "stream",
     "text": [
      "number of PDF images: 4\n",
      "number of DICOM images: 6\n"
     ]
    }
   ],
   "source": [
    "print(f\"number of PDF images: {len(pdf_images)}\")\n",
    "print(f\"number of DICOM images: {len(dicom_images)}\")\n",
    "pdf_images"
   ]
  },
  {
   "cell_type": "code",
   "execution_count": null,
   "id": "afd98ef8",
   "metadata": {},
   "outputs": [],
   "source": [
    "query_img = cv2.imread('query.jpg')\n",
    "train_img = cv2.imread('train.jpg')\n",
    " \n",
    "# Convert it to grayscale\n",
    "query_img_bw = cv2.cvtColor(query_img,cv2.COLOR_BGR2GRAY)\n",
    "train_img_bw = cv2.cvtColor(train_img, cv2.COLOR_BGR2GRAY)\n",
    " \n",
    "# Initialize the ORB detector algorithm\n",
    "orb = cv2.ORB_create()\n",
    " \n",
    "# Now detect the keypoints and compute\n",
    "# the descriptors for the query image\n",
    "# and train image\n",
    "queryKeypoints, queryDescriptors = orb.detectAndCompute(query_img_bw,None)\n",
    "trainKeypoints, trainDescriptors = orb.detectAndCompute(train_img_bw,None)\n",
    "\n",
    "# Initialize the Matcher for matching\n",
    "# the keypoints and then match the\n",
    "# keypoints\n",
    "matcher = cv2.BFMatcher()\n",
    "matches = matcher.match(queryDescriptors,trainDescriptors)\n",
    " \n",
    "# draw the matches to the final image\n",
    "# containing both the images the drawMatches()\n",
    "# function takes both images and keypoints\n",
    "# and outputs the matched query image with\n",
    "# its train image\n",
    "final_img = cv2.drawMatches(query_img, queryKeypoints, \n",
    "train_img, trainKeypoints, matches[:20],None)\n",
    " \n",
    "final_img = cv2.resize(final_img, (1000,650))\n",
    "\n",
    "# Show the final image\n",
    "cv2.imshow(\"Matches\", final_img)\n",
    "cv2.waitKey(3000)"
   ]
  }
 ],
 "metadata": {
  "kernelspec": {
   "display_name": ".venv",
   "language": "python",
   "name": "python3"
  },
  "language_info": {
   "codemirror_mode": {
    "name": "ipython",
    "version": 3
   },
   "file_extension": ".py",
   "mimetype": "text/x-python",
   "name": "python",
   "nbconvert_exporter": "python",
   "pygments_lexer": "ipython3",
   "version": "3.12.2"
  }
 },
 "nbformat": 4,
 "nbformat_minor": 5
}

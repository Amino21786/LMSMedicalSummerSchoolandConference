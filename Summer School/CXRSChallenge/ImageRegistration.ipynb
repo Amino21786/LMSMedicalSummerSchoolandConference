{
 "cells": [
  {
   "cell_type": "markdown",
   "id": "5ef01ac8",
   "metadata": {},
   "source": [
    "# Image registration of the pdf scans vs DICOM scan images"
   ]
  },
  {
   "cell_type": "code",
   "execution_count": null,
   "id": "db46d960",
   "metadata": {},
   "outputs": [],
   "source": [
    "import numpy as np\n",
    "import matplotlib.pyplot as plt\n",
    "import os\n",
    "from PIL import Image\n",
    "import opencv2 as cv2\n",
    "\n",
    "# Define the directories\n",
    "pdf_dir = 'imagespdf'\n",
    "dicom_dir = 'imagesdicom'\n",
    "\n",
    "# Helper function to load all jpg images from a directory as numpy arrays\n",
    "def load_images_from_folder(folder):\n",
    "    images = []\n",
    "    filenames = []\n",
    "    for filename in os.listdir(folder):\n",
    "        if filename.lower().endswith('.jpg'):\n",
    "            img_path = os.path.join(folder, filename)\n",
    "            img = Image.open(img_path).convert('L')  # convert to grayscale\n",
    "            images.append(np.array(img))\n",
    "            filenames.append(filename)\n",
    "    return images, filenames\n",
    "\n",
    "pdf_images, pdf_filenames = load_images_from_folder(pdf_dir)\n",
    "dicom_images, dicom_filenames = load_images_from_folder(dicom_dir)"
   ]
  },
  {
   "cell_type": "code",
   "execution_count": null,
   "id": "b22937bb",
   "metadata": {},
   "outputs": [
    {
     "name": "stdout",
     "output_type": "stream",
     "text": [
      "number of PDF images: 4\n",
      "number of DICOM images: 6\n"
     ]
    }
   ],
   "source": [
    "print(f\"number of PDF images: {len(pdf_images)}\")\n",
    "print(f\"number of DICOM images: {len(dicom_images)}\")\n",
    "pdf"
   ]
  }
 ],
 "metadata": {
  "kernelspec": {
   "display_name": ".venv",
   "language": "python",
   "name": "python3"
  },
  "language_info": {
   "codemirror_mode": {
    "name": "ipython",
    "version": 3
   },
   "file_extension": ".py",
   "mimetype": "text/x-python",
   "name": "python",
   "nbconvert_exporter": "python",
   "pygments_lexer": "ipython3",
   "version": "3.12.2"
  }
 },
 "nbformat": 4,
 "nbformat_minor": 5
}
